{
 "cells": [
  {
   "cell_type": "code",
   "execution_count": null,
   "metadata": {},
   "outputs": [],
   "source": [
    "%pip install opencv-python\n",
    "%pip install matplotlib"
   ]
  },
  {
   "cell_type": "code",
   "execution_count": null,
   "metadata": {},
   "outputs": [],
   "source": [
    "import cv2\n",
    "import os\n",
    "import matplotlib.pyplot as plt\n",
    "from IPython.display import display\n",
    "from PIL import Image"
   ]
  },
  {
   "cell_type": "code",
   "execution_count": null,
   "metadata": {},
   "outputs": [],
   "source": [
    "mainFolder = 'Img'\n",
    "myFolders = os.listdir(mainFolder)\n",
    "print(myFolders)"
   ]
  },
  {
   "cell_type": "code",
   "execution_count": null,
   "metadata": {},
   "outputs": [],
   "source": [
    "resultName = '../result.jpg' # enter name for result\n",
    "pBool = True\n",
    "p1 = 0\n",
    "p2 = 0\n",
    "p3 = 0.2\n",
    "p4 = 0.2"
   ]
  },
  {
   "cell_type": "code",
   "execution_count": null,
   "metadata": {},
   "outputs": [],
   "source": [
    "for folder in myFolders:\n",
    "    if folder == '.DS_Store' or folder.startswith('.'):\n",
    "        continue\n",
    "    path = mainFolder + '/' + folder\n",
    "    images = []\n",
    "    myList = os.listdir(path)\n",
    "    print(f'Total no of images detected: {len(myList)}')\n",
    "    for imageName in myList:\n",
    "        if imageName == '.DS_Store':\n",
    "            continue\n",
    "        currentImage = cv2.imread(f'{path}/{imageName}')\n",
    "        if pBool == True:\n",
    "            currentImage = cv2.resize(currentImage, (p1, p2), None, p3, p4)\n",
    "        images.append(currentImage)\n",
    "\n",
    "    stitcher = cv2.Stitcher.create()\n",
    "    (status, result) = stitcher.stitch(images)\n",
    "    if status == cv2.STITCHER_OK:\n",
    "        print('Stitched picture generated! 🟩')\n",
    "        #cv2.imshow(folder, result)\n",
    "        # cv2.waitKey()\n",
    "        resultPath = os.path.join(mainFolder, folder, resultName)\n",
    "        cv2.imwrite(resultPath, result)\n",
    "        img = cv2.cvtColor(result, cv2.COLOR_BGR2RGB)\n",
    "        plt.imshow(cv2.cvtColor(result, cv2.COLOR_BGR2RGB))\n",
    "        plt.show()\n",
    "        #display(Image.fromarray(img))\n",
    "        #display.display(display.Image('progress.png'))\n",
    "    else:\n",
    "        print('Stitched picture generation unsuccessful! 🟥')\n"
   ]
  },
  {
   "cell_type": "code",
   "execution_count": null,
   "metadata": {},
   "outputs": [],
   "source": [
    "for folder in myFolders:\n",
    "    if folder.startswith('.'):\n",
    "        continue\n",
    "    path = mainFolder + '/' + folder\n",
    "    images = []\n",
    "    myList = os.listdir(path)\n",
    "    print(f'Total no of images detected: {len(myList)}')\n",
    "    for imageName in myList:\n",
    "        if \".jpeg\" in imageName and \"IMG\" in imageName:\n",
    "            currentImage = cv2.imread(f'{path}/{imageName}')\n",
    "            if pBool == True:\n",
    "                currentImage = cv2.resize(currentImage, (p1, p2), None, p3, p4)\n",
    "            images.append(currentImage)\n",
    "\n",
    "    stitcher = cv2.Stitcher.create()\n",
    "    (status, result) = stitcher.stitch(images)\n",
    "    if status == cv2.STITCHER_OK:\n",
    "        print('Stitched picture generated! 🟩')\n",
    "        #cv2.imshow(folder, result)\n",
    "        # cv2.waitKey()\n",
    "        resultPath = os.path.join(mainFolder, folder, resultName)\n",
    "        cv2.imwrite(resultPath, result)\n",
    "        img = cv2.cvtColor(result, cv2.COLOR_BGR2RGB)\n",
    "        #plt.imshow(cv2.cvtColor(result, cv2.COLOR_BGR2RGB))\n",
    "        #plt.show()\n",
    "        display(Image.fromarray(img))\n",
    "        # display.display(display.Image('progress.png'))\n",
    "    else:\n",
    "        print('Stitched picture generation unsuccessful! 🟥')\n"
   ]
  },
  {
   "cell_type": "code",
   "execution_count": null,
   "metadata": {},
   "outputs": [],
   "source": []
  }
 ],
 "metadata": {
  "kernelspec": {
   "display_name": "Python 3.9.12 64-bit ('3.9.12')",
   "language": "python",
   "name": "python3"
  },
  "language_info": {
   "codemirror_mode": {
    "name": "ipython",
    "version": 3
   },
   "file_extension": ".py",
   "mimetype": "text/x-python",
   "name": "python",
   "nbconvert_exporter": "python",
   "pygments_lexer": "ipython3",
   "version": "3.9.12"
  },
  "orig_nbformat": 4,
  "vscode": {
   "interpreter": {
    "hash": "0235e0b4c051eb76b3e0776d771b58a2f01ae44e4196cc2e31d317f0cabb9540"
   }
  }
 },
 "nbformat": 4,
 "nbformat_minor": 2
}
