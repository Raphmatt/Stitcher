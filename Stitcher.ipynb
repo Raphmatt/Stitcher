{
 "cells": [
  {
   "cell_type": "markdown",
   "metadata": {},
   "source": [
    "# Stitching with opencv"
   ]
  },
  {
   "cell_type": "markdown",
   "metadata": {},
   "source": [
    "## Preperation"
   ]
  },
  {
   "cell_type": "code",
   "execution_count": null,
   "metadata": {},
   "outputs": [],
   "source": [
    "%pip install opencv-python\n",
    "%pip install matplotlib\n",
    "%pip install moviepy"
   ]
  },
  {
   "cell_type": "code",
   "execution_count": null,
   "metadata": {},
   "outputs": [],
   "source": [
    "import cv2 # opencv-python\n",
    "import os\n",
    "import matplotlib.pyplot as plt # plotter to preview picture\n",
    "from moviepy.editor import *\n",
    "\n",
    "#from IPython.display import display\n",
    "#from PIL import Image"
   ]
  },
  {
   "cell_type": "markdown",
   "metadata": {},
   "source": [
    "### Parameters and stuff"
   ]
  },
  {
   "cell_type": "code",
   "execution_count": null,
   "metadata": {},
   "outputs": [],
   "source": [
    "# Pathes\n",
    "imageFolder = \"img\"\n",
    "inputFolder = \"in\"\n",
    "outputFolder = \"out\"\n",
    "inputPath = os.path.join(imageFolder, inputFolder)\n",
    "outputPath = os.path.join(imageFolder, outputFolder)\n",
    "\n",
    "# Parameter for cv2 resize\n",
    "doResize = False # if cv2 resizing is enabled\n",
    "p1 = 0 # hight res (0 = src)\n",
    "p2 = 0 # width res (0 = src)\n",
    "p3 = 0.2 # height scale\n",
    "p4 = 0.2 # width scale\n",
    "\n",
    "# Other params\n",
    "showWindowResult = False # show result in windows\n",
    "showWindowResized = False\n",
    "overwriteResult = True # if result already exist -> skip DOESNT WORK!!!\n",
    "extension = \".jpg\""
   ]
  },
  {
   "cell_type": "markdown",
   "metadata": {},
   "source": [
    "### Needed Methods and stuff"
   ]
  },
  {
   "cell_type": "code",
   "execution_count": null,
   "metadata": {},
   "outputs": [],
   "source": [
    "def returnImages(path):\n",
    "    files = []\n",
    "    for file in os.listdir(path):\n",
    "        if \".jpg\" in file or \".png\" in file:\n",
    "            files.append(file)\n",
    "    return files"
   ]
  },
  {
   "cell_type": "markdown",
   "metadata": {},
   "source": [
    "## Stitch photos "
   ]
  },
  {
   "cell_type": "code",
   "execution_count": null,
   "metadata": {},
   "outputs": [],
   "source": [
    "folders = os.listdir(inputPath)\n",
    "folders.sort()\n",
    "for folder in os.listdir(inputPath):\n",
    "    resultPath = os.path.join(outputPath, folder + extension)\n",
    "    bl = False\n",
    "    if os.path.exists(resultPath) and not overwriteResult:\n",
    "        bl = True\n",
    "    if not folder.startswith('.') and not bl:\n",
    "        folderPath = os.path.join(inputPath, folder)\n",
    "        print(f\"Folder: {folder}\")\n",
    "        imagesInFolder = returnImages(folderPath)\n",
    "        if not len(imagesInFolder)==0:\n",
    "            print(f\"Count: {len(imagesInFolder)}\")\n",
    "            images = []\n",
    "            for image in imagesInFolder:\n",
    "                currentImage = cv2.imread(os.path.join(folderPath, image))\n",
    "                if doResize:\n",
    "                    currentImage = cv2.resize(currentImage, (p1, p2), None, p3, p4)\n",
    "                    if showWindowResized:\n",
    "                        cv2.imshow(\"Resized\", currentImage)\n",
    "                images.append(currentImage)\n",
    "            stitcher = cv2.Stitcher.create()\n",
    "            print('Stitching...')\n",
    "            (status, result) = stitcher.stitch(images)\n",
    "            if status == cv2.STITCHER_OK:\n",
    "                print('🟩 Successful!')\n",
    "                if showWindowResult:\n",
    "                    cv2.imshow(folder, result)\n",
    "                    cv2.waitKey()\n",
    "                cv2.imwrite(resultPath, result)\n",
    "                plt.imshow(cv2.cvtColor(result, cv2.COLOR_BGR2RGB))\n",
    "                plt.show()\n",
    "                #display(Image.fromarray(img))\n",
    "                # display.display(display.Image('progress.png')) dont use!!!\n",
    "            else:\n",
    "                print('🟥 Failed!')\n",
    "        else:\n",
    "            print(\"Count: 0️⃣ Empty!\\n\")"
   ]
  },
  {
   "cell_type": "markdown",
   "metadata": {},
   "source": [
    "## Other utilities"
   ]
  },
  {
   "cell_type": "code",
   "execution_count": null,
   "metadata": {},
   "outputs": [],
   "source": [
    "dummyImages = [ \n",
    "    \"IMG_0188 Large.jpg\", \n",
    "    \"IMG_0193 Large.jpg\", \n",
    "    \"IMG_0192 Large.jpg\", \n",
    "    \"IMG_0194 Large.jpg\", \n",
    "    \"IMG_0186 Large.jpg\", \n",
    "    \"IMG_0190 Large.jpg\",\n",
    "    \"IMG_0187 Large.jpg\", \n",
    "    \"IMG_0191 Large.jpg\", \n",
    "    \"IMG_0189 Large.jpg\", \n",
    "    \"IMG_0195 Large.jpg\"]\n"
   ]
  },
  {
   "cell_type": "code",
   "execution_count": null,
   "metadata": {},
   "outputs": [],
   "source": [
    "for a in dummyImages:\n",
    "    print(a)\n",
    "print()\n",
    "dummyImages.sort()\n",
    "for a in dummyImages:\n",
    "    print(a)"
   ]
  },
  {
   "cell_type": "code",
   "execution_count": null,
   "metadata": {},
   "outputs": [],
   "source": [
    "# In img: rename all jpeg to jpg as well as numbering from 1...\n",
    "for folder in os.listdir(inputPath):\n",
    "#if True:\n",
    "    #folder = \"5\"\n",
    "    resultPath = os.path.join(outputPath, folder + extension)\n",
    "    if not folder.startswith('.'):\n",
    "        folderPath = os.path.join(inputPath, folder)\n",
    "        print(f\"Folder: {folder}\")\n",
    "        renamedImages = []\n",
    "        for file in os.listdir(folderPath):\n",
    "            if \".jpeg\" in file or \".jpg\" in file:\n",
    "                renamedImages.append(file)\n",
    "        if not len(renamedImages) == 0:\n",
    "            renamedImages.sort()\n",
    "            print(f\"Count: {len(renamedImages)}\")\n",
    "            number = 1\n",
    "            for image in renamedImages:\n",
    "                print(image)\n",
    "                imagePath = os.path.join(folderPath, image)\n",
    "                print(os.path.join(folderPath, f\"{number}{extension}\"))\n",
    "                os.rename(imagePath, os.path.join(folderPath, f\"{number}{extension}\"))\n",
    "                number = number + 1\n"
   ]
  }
 ],
 "metadata": {
  "kernelspec": {
   "display_name": "Python 3.9.13 64-bit ('3.9.13')",
   "language": "python",
   "name": "python3"
  },
  "language_info": {
   "codemirror_mode": {
    "name": "ipython",
    "version": 3
   },
   "file_extension": ".py",
   "mimetype": "text/x-python",
   "name": "python",
   "nbconvert_exporter": "python",
   "pygments_lexer": "ipython3",
   "version": "3.9.13"
  },
  "orig_nbformat": 4,
  "vscode": {
   "interpreter": {
    "hash": "ac4458a7afc9e0a6f6763e26fd07945612008654ed9beb11a9655cc0a838205a"
   }
  }
 },
 "nbformat": 4,
 "nbformat_minor": 2
}
